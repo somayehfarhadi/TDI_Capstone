{
 "cells": [
  {
   "cell_type": "markdown",
   "metadata": {},
   "source": [
    "__Forecasting Technology Trends by Patent Database__\n",
    "---\n",
    "Somaye Farhadi, PhD<br>\n",
    "The Data Incubator Fellowship Program<br>\n",
    "Fall 2019\n"
   ]
  },
  {
   "cell_type": "markdown",
   "metadata": {},
   "source": [
    "__Buisiness objective:__<br>\n",
    "\n",
    "How do breakthrough technologies emerge? What is the life-time of a specific technology? And can we predict anything about the technology landscape in future?<br>\n",
    "Here, I propose to utilize patent issuance database to get useful information about technology trends and ultimately make predictions for the fate of a specific technology. I am using patent data because patents represent innovation, and any trend in patent issuance and citation gives us significant information about technology landscape.<br>\n",
    "The ultimate outcome of this data analysis could be applied to various sectors. Just to name a few are the funding agencies, Venture capital firms, and concerns regarding technology transfer. \n",
    "    "
   ]
  },
  {
   "cell_type": "markdown",
   "metadata": {},
   "source": [
    "__Data Source and Streaming:__<br>\n",
    "The data I have used are publicly available and sourced from US patent office database. In particular, I downloaded two databases from https://www.patentsview.org/download/. Namely \"uspatentcitation.tsv\" and \"cpc_current.tsv\". Both these spreadsheets contained millions of rows and required specific handling. I ultimately queried three types of information: The occurrence of a patent citation, The category of that cited patent, and the year it was cited (More detailed are provided in Pre-Processing-Data notebook).\n",
    "There are different schemes to categorize patents, but uspto uses a scheme called CPC to assign letters and numbers which could be tracked to specific classifications as sections subsections groups and subgroups. For my analysis, I looked at the groups of patents and ignored their subgroups because it introduces a lot of noise.\n"
   ]
  },
  {
   "cell_type": "markdown",
   "metadata": {},
   "source": [
    "__Graph-based Analysis:__<br>\n",
    "The analysis procedure I chose for forcasting technology trends was a combination of network analysis and linear regression.<br>\n",
    "The idea is to construct a graph based on citations, where each node represent a patent group (e.g. group H01L, which is Semiconductor Devices). The links of this graph represent a patent citation from group A to group B. With this analogy, we end up with a weighted directional graph, which would evolve over time based on new patent citation incidences. I then perform a _PageRank_ analysis on this graph and apply a score to each node. <br>\n",
    "The next step is to predict the PageRank scores based on the current structure of the graph and its past history. For this purpose, I assumed a simple Markov chain model, and performed a linear regression. The features of this model consisted of two variables: 1- The current PageRanke value of a node, P(t), and 2- The gradient of the PageRanke value (i.e. [P(t-1)-P(t)]/P(t)). The target variable was the future PageRanke value, P(t+1).<br>\n",
    "I constructed a model based on linear regression with cross-validation.<br>\n",
    "Finally, after being confident about the performance of the model, I applied the model to current PageRank values to predict the upcoming PageRanks.<br>\n",
    "\n",
    "It is important to note that I take PageRank values as a measure on how _active_ a particular node is, which subsequently signals the trendiness of that particular group in technology landscape.\n"
   ]
  },
  {
   "cell_type": "code",
   "execution_count": null,
   "metadata": {},
   "outputs": [],
   "source": []
  },
  {
   "cell_type": "markdown",
   "metadata": {},
   "source": [
    "__A quick note:__ In this notebook, I have focused on the section \"H\" in CPC scheme, but the procedure could be applied to any section."
   ]
  },
  {
   "cell_type": "code",
   "execution_count": 2,
   "metadata": {},
   "outputs": [],
   "source": [
    "# importing libraries\n",
    "import pandas as pd\n",
    "import numpy as np\n",
    "import matplotlib.pyplot as plt\n",
    "import networkx as nx\n",
    "\n",
    "import pickle\n",
    "import os\n",
    "\n",
    "from collections import Counter\n",
    "from itertools import permutations "
   ]
  },
  {
   "cell_type": "code",
   "execution_count": 3,
   "metadata": {},
   "outputs": [],
   "source": [
    "# Local saved files\n",
    "data_drct = '/home/somayeh/Documents/Career/Data_Incubator/Capstone/Data/'\n",
    "result_drct = '/home/somayeh/Documents/Career/Data_Incubator/Capstone/Result/'\n",
    "\n",
    "filename2 = 'cpc_current.tsv'  # information on citation groups\n",
    "filename3 = 'uspatentcitation.tsv'  # information on patent and its citations and the year it was issued"
   ]
  },
  {
   "cell_type": "markdown",
   "metadata": {},
   "source": [
    "__1. Cleaning up the data and preparing for graph analysis__\n",
    "--"
   ]
  },
  {
   "cell_type": "markdown",
   "metadata": {},
   "source": [
    "This function gets ONLy patents which are in section H. Note that he data is partally loaded, cleaned and stored in a dataframe:"
   ]
  },
  {
   "cell_type": "code",
   "execution_count": 3,
   "metadata": {},
   "outputs": [],
   "source": [
    "def get_section(section =\"H\"):\n",
    "    df_chunk = pd.read_csv(data_drct+filename2,sep='\\t',header=0, chunksize=1000000)\n",
    "    patent_list2 = []  \n",
    "    for cnt, chunk in enumerate(df_chunk):\n",
    "        chunk = chunk[chunk[\"section_id\"] == \"H\"]\n",
    "        chunk = chunk[[\"patent_id\",\"group_id\"]]\n",
    "        chunk[\"patent_id\"] = chunk[\"patent_id\"].astype(int)\n",
    "        chunk = chunk.drop_duplicates()\n",
    "        patent_list2.append(chunk)\n",
    "\n",
    "    patent_id_group = pd.concat(patent_list2)\n",
    "    del patent_list2\n",
    "    return(patent_id_group)"
   ]
  },
  {
   "cell_type": "code",
   "execution_count": 4,
   "metadata": {},
   "outputs": [],
   "source": [
    "patent_id_group = get_section()"
   ]
  },
  {
   "cell_type": "markdown",
   "metadata": {},
   "source": [
    "As seen, patent_id_group dataframe has two columns: patent_id and its group_id:"
   ]
  },
  {
   "cell_type": "code",
   "execution_count": 5,
   "metadata": {},
   "outputs": [
    {
     "data": {
      "text/html": [
       "<div>\n",
       "<style scoped>\n",
       "    .dataframe tbody tr th:only-of-type {\n",
       "        vertical-align: middle;\n",
       "    }\n",
       "\n",
       "    .dataframe tbody tr th {\n",
       "        vertical-align: top;\n",
       "    }\n",
       "\n",
       "    .dataframe thead th {\n",
       "        text-align: right;\n",
       "    }\n",
       "</style>\n",
       "<table border=\"1\" class=\"dataframe\">\n",
       "  <thead>\n",
       "    <tr style=\"text-align: right;\">\n",
       "      <th></th>\n",
       "      <th>patent_id</th>\n",
       "      <th>group_id</th>\n",
       "    </tr>\n",
       "  </thead>\n",
       "  <tbody>\n",
       "    <tr>\n",
       "      <th>0</th>\n",
       "      <td>4205226</td>\n",
       "      <td>H01J</td>\n",
       "    </tr>\n",
       "    <tr>\n",
       "      <th>2</th>\n",
       "      <td>4205227</td>\n",
       "      <td>H01L</td>\n",
       "    </tr>\n",
       "    <tr>\n",
       "      <th>13</th>\n",
       "      <td>4205232</td>\n",
       "      <td>H05F</td>\n",
       "    </tr>\n",
       "    <tr>\n",
       "      <th>14</th>\n",
       "      <td>4205232</td>\n",
       "      <td>H01H</td>\n",
       "    </tr>\n",
       "    <tr>\n",
       "      <th>15</th>\n",
       "      <td>4205232</td>\n",
       "      <td>H01J</td>\n",
       "    </tr>\n",
       "  </tbody>\n",
       "</table>\n",
       "</div>"
      ],
      "text/plain": [
       "    patent_id group_id\n",
       "0     4205226     H01J\n",
       "2     4205227     H01L\n",
       "13    4205232     H05F\n",
       "14    4205232     H01H\n",
       "15    4205232     H01J"
      ]
     },
     "execution_count": 5,
     "metadata": {},
     "output_type": "execute_result"
    }
   ],
   "source": [
    "patent_id_group.head()"
   ]
  },
  {
   "cell_type": "code",
   "execution_count": 6,
   "metadata": {},
   "outputs": [],
   "source": [
    "patent_id_group.to_pickle(result_drct+\"/patent_id_group_H.pkl\")"
   ]
  },
  {
   "cell_type": "code",
   "execution_count": 7,
   "metadata": {},
   "outputs": [],
   "source": [
    "del(patent_id_group)"
   ]
  },
  {
   "cell_type": "markdown",
   "metadata": {},
   "source": [
    "The following function combines all required infomation for each year and stores it (per year) locally:"
   ]
  },
  {
   "cell_type": "code",
   "execution_count": 3,
   "metadata": {},
   "outputs": [],
   "source": [
    "def get_df_per_year(yr):\n",
    "    print(yr)\n",
    "    fname = result_drct+'/patent_citation_yr/'+str(yr)+'.pkl'\n",
    "    with open(fname, 'rb') as f:\n",
    "        df = pickle.load(f)\n",
    "    df = (df\n",
    "            .drop(['patent_id','citation_id', 'year'], axis=1)\n",
    "            .join(df[['patent_id','citation_id', 'year']].apply(pd.to_numeric, errors='coerce')))\n",
    "    df = df.dropna()\n",
    "    df[['patent_id','citation_id']] = df[['patent_id','citation_id']].astype(int)\n",
    "    df = df.reset_index(drop=True)\n",
    "    \n",
    "    fname = result_drct+\"/patent_id_group_H.pkl\"\n",
    "    with open(fname, 'rb') as f:\n",
    "        patent_id_group = pickle.load(f)\n",
    "    patent_id_group = patent_id_group[[\"patent_id\", \"group_id\"]]\n",
    "    patent_id_group = patent_id_group.loc[patent_id_group[\"patent_id\"].isin(df.patent_id)]\n",
    "\n",
    "    df = pd.merge(df, patent_id_group, how='left', on=['patent_id'])\n",
    "\n",
    "    df = df.rename(columns={'year': 'year_citation', 'group_id':'patent_group','patent_id': 'p_id', 'citation_id':'patent_id'})\n",
    "    df = pd.merge(df, patent_id_group, how='left', on=['patent_id'])\n",
    "    df = df.rename(columns={'p_id': 'patent_id', 'patent_id':'citation_id', 'group_id':'citation_group'})\n",
    "    df = df.dropna()\n",
    "    df = df.reset_index(drop=True)\n",
    "    del patent_id_group \n",
    "\n",
    "    fname = result_drct+\"/patent_id_year.pkl\"\n",
    "    with open(fname, 'rb') as f:\n",
    "        df2 = pickle.load(f)\n",
    "#     df2 = df2.loc[df2[\"year\"]>=yr-5]\n",
    "    df2 = df2.rename(columns={'year': 'year_patent', 'citation_id':'patent_id'})\n",
    "    df = pd.merge(df, df2, how='left', on=['patent_id'])\n",
    "    df = df.dropna()\n",
    "    df[\"year_patent\"] = df[\"year_patent\"].astype(int)\n",
    "    \n",
    "    drc = result_drct+'/citations_year/'\n",
    "    if not os.path.exists(drc):\n",
    "        os.makedirs(drc)\n",
    "    fname = drc+str(yr)+'.pkl'\n",
    "    with open(fname, 'wb') as f:\n",
    "        pickle.dump(df, f)\n"
   ]
  },
  {
   "cell_type": "code",
   "execution_count": 4,
   "metadata": {
    "scrolled": true
   },
   "outputs": [
    {
     "name": "stdout",
     "output_type": "stream",
     "text": [
      "1960\n",
      "1961\n",
      "1962\n",
      "1963\n",
      "1964\n",
      "1965\n",
      "1966\n",
      "1967\n",
      "1968\n",
      "1969\n",
      "1970\n",
      "1971\n",
      "1972\n",
      "1973\n",
      "1974\n",
      "1975\n",
      "1976\n",
      "1977\n",
      "1978\n",
      "1979\n",
      "1980\n",
      "1981\n",
      "1982\n",
      "1983\n",
      "1984\n",
      "1985\n",
      "1986\n",
      "1987\n",
      "1988\n",
      "1989\n",
      "1990\n",
      "1991\n",
      "1992\n",
      "1993\n",
      "1994\n",
      "1995\n",
      "1996\n",
      "1997\n",
      "1998\n",
      "1999\n",
      "2000\n",
      "2001\n",
      "2002\n",
      "2003\n",
      "2004\n",
      "2005\n",
      "2006\n",
      "2007\n",
      "2008\n",
      "2009\n",
      "2010\n",
      "2011\n",
      "2012\n",
      "2013\n",
      "2014\n",
      "2015\n",
      "2016\n",
      "2017\n",
      "2018\n",
      "2019\n"
     ]
    }
   ],
   "source": [
    "for yr in range(1960,2020):\n",
    "    get_df_per_year(yr)"
   ]
  },
  {
   "cell_type": "markdown",
   "metadata": {},
   "source": [
    "The following function orders the files based on citation year:"
   ]
  },
  {
   "cell_type": "code",
   "execution_count": 11,
   "metadata": {},
   "outputs": [],
   "source": [
    "def get_df_per_year2(yr):\n",
    "    print(yr)\n",
    "    DF = pd.DataFrame()\n",
    "    for yr2 in range(1960,2020):\n",
    "        fname = result_drct+'/citations_year/'+str(yr2)+'.pkl'\n",
    "        with open(fname, 'rb') as f:\n",
    "            df = pickle.load(f)\n",
    "        df = df[df.year_patent==yr]\n",
    "        DF = pd.concat([DF,df],sort=False)\n",
    "    drc = result_drct+'/citations_year2/'\n",
    "    if not os.path.exists(drc):\n",
    "        os.makedirs(drc)\n",
    "    fname = drc+str(yr)+'.pkl'\n",
    "    with open(fname, 'wb') as f:\n",
    "        pickle.dump(DF, f)"
   ]
  },
  {
   "cell_type": "code",
   "execution_count": 12,
   "metadata": {
    "scrolled": true
   },
   "outputs": [
    {
     "name": "stdout",
     "output_type": "stream",
     "text": [
      "1960\n",
      "1961\n",
      "1962\n",
      "1963\n",
      "1964\n",
      "1965\n",
      "1966\n",
      "1967\n",
      "1968\n",
      "1969\n",
      "1970\n",
      "1971\n",
      "1972\n",
      "1973\n",
      "1974\n",
      "1975\n",
      "1976\n",
      "1977\n",
      "1978\n",
      "1979\n",
      "1980\n",
      "1981\n",
      "1982\n",
      "1983\n",
      "1984\n",
      "1985\n",
      "1986\n",
      "1987\n",
      "1988\n",
      "1989\n",
      "1990\n",
      "1991\n",
      "1992\n",
      "1993\n",
      "1994\n",
      "1995\n",
      "1996\n",
      "1997\n",
      "1998\n",
      "1999\n",
      "2000\n",
      "2001\n",
      "2002\n",
      "2003\n",
      "2004\n",
      "2005\n",
      "2006\n",
      "2007\n",
      "2008\n",
      "2009\n",
      "2010\n",
      "2011\n",
      "2012\n",
      "2013\n",
      "2014\n",
      "2015\n",
      "2016\n",
      "2017\n",
      "2018\n",
      "2019\n"
     ]
    }
   ],
   "source": [
    "for yr in range(1960,2020):\n",
    "    get_df_per_year2(yr)"
   ]
  },
  {
   "cell_type": "markdown",
   "metadata": {},
   "source": [
    "__2. Constructing the weighted citation graph__\n",
    "--"
   ]
  },
  {
   "cell_type": "markdown",
   "metadata": {},
   "source": [
    "Now, we are prepared to construct the citation graph. Note that this graph is constructed individually for all citation in a specific year, and the nodes represent the patent group IDs. The weight of the link between node A and B is proportional to the number of citations groing from A to B. We represent teh graph by its adjacancy matrix:"
   ]
  },
  {
   "cell_type": "code",
   "execution_count": 224,
   "metadata": {},
   "outputs": [],
   "source": [
    "#List of all unique groups in H section\n",
    "# get list of group ids stored in patent_id_group data file   \n",
    "def get_adjacancy_matrix():\n",
    "    fname = result_drct+\"/patent_id_group_H.pkl\"\n",
    "    with open(fname, 'rb') as f:\n",
    "        df2 = pickle.load(f)\n",
    "    group_list = df2.group_id.unique()\n",
    "    group_list.sort()\n",
    "    del df2\n",
    "\n",
    "    adjacancy_matrix =  list(zip(group_list,group_list))+ list(permutations(group_list, 2))\n",
    "#     adjacancy_matrix =  list(permutations(group_list, 2))\n",
    "    group_list = {group_list[i]:i for i in range(len(group_list))}\n",
    "    return(group_list, adjacancy_matrix)\n",
    "\n",
    "def get_adjecanct_matrix_year(year):\n",
    "    \n",
    "    group_list, adjacancy_matrix = get_adjacancy_matrix()\n",
    "    DF= pd.DataFrame()\n",
    "#     for yr in range(1960,year+1):\n",
    "#         fname = result_drct+'/citations_year2/'+str(yr)+'.pkl'\n",
    "#         with open(fname, 'rb') as f:\n",
    "#             df = pickle.load(f)\n",
    "#         df = df.drop_duplicates()\n",
    "#         DF = pd.concat([DF,df],sort=False)\n",
    "#         del df\n",
    "    fname = result_drct+'/citations_year2/'+str(year)+'.pkl'\n",
    "    with open(fname, 'rb') as f:\n",
    "        df = pickle.load(f)\n",
    "    df = df.drop_duplicates()\n",
    "    DF = pd.concat([DF,df],sort=False)\n",
    "    del df\n",
    "\n",
    "    all_links = list(zip(DF.patent_group, DF.citation_group))\n",
    "    unique_links = set(list(zip(DF.patent_group, DF.citation_group)))\n",
    "    del DF\n",
    "\n",
    "    dd = Counter(all_links)\n",
    "    for item in adjacancy_matrix:\n",
    "        if item in dd.keys():\n",
    "            pass \n",
    "        else:\n",
    "            dd[item] = 0\n",
    "\n",
    "#     dd = { item: dd[item] for item in dd.keys() if item in adjacancy_matrix }\n",
    "    \n",
    "    A_M = np.zeros((len(group_list),len(group_list)))\n",
    "    for k,v in dd.items():\n",
    "        x, y = list(k)[0],list(k)[1]\n",
    "        idx, idy = group_list[x], group_list[y]\n",
    "        A_M[idx][idy] = v\n",
    "    return(dd,A_M)"
   ]
  },
  {
   "cell_type": "code",
   "execution_count": null,
   "metadata": {},
   "outputs": [],
   "source": []
  },
  {
   "cell_type": "markdown",
   "metadata": {},
   "source": [
    "__As an example__, I have visualized the adjacancy matrix for year 2010:"
   ]
  },
  {
   "cell_type": "code",
   "execution_count": 327,
   "metadata": {},
   "outputs": [
    {
     "data": {
      "image/png": "[encoded data removed]",
      "text/plain": [
       "<Figure size 640x480 with 1 Axes>"
      ]
     },
     "metadata": {},
     "output_type": "display_data"
    }
   ],
   "source": [
    "dd,A_M = get_adjecanct_matrix_year(2010)\n",
    "plt.imshow(np.sqrt(A_M))\n",
    "plt.title(\"Adjacancy matrix for citations in section H, made in year 2010\")\n",
    "plt.show()"
   ]
  },
  {
   "cell_type": "markdown",
   "metadata": {},
   "source": [
    "__Creating Graph from the adjacency matrix using Networkx:__"
   ]
  },
  {
   "cell_type": "code",
   "execution_count": 292,
   "metadata": {},
   "outputs": [
    {
     "name": "stdout",
     "output_type": "stream",
     "text": [
      "Name: \n",
      "Type: MultiDiGraph\n",
      "Number of nodes: 50\n",
      "Number of edges: 961\n",
      "Average in degree:  19.2200\n",
      "Average out degree:  19.2200\n"
     ]
    }
   ],
   "source": [
    "G2 = nx.from_numpy_matrix(A_M, create_using=nx.MultiDiGraph)\n",
    "pr = nx.pagerank_numpy(G2, alpha=0.8)\n",
    "\n",
    "print(nx.info(G2))"
   ]
  },
  {
   "cell_type": "code",
   "execution_count": null,
   "metadata": {},
   "outputs": [],
   "source": []
  },
  {
   "cell_type": "markdown",
   "metadata": {},
   "source": [
    "__3. PageRank Analysis of Graph__\n",
    "---"
   ]
  },
  {
   "cell_type": "markdown",
   "metadata": {},
   "source": [
    "Now we can iteratively create the _PageRank_ features for each year, as the citation graph evolves over time:"
   ]
  },
  {
   "cell_type": "code",
   "execution_count": 293,
   "metadata": {},
   "outputs": [],
   "source": [
    "def create_feature_df(year):\n",
    "    P_R = pd.DataFrame()\n",
    "    for year in range(year,2020):\n",
    "        _,A_M = get_adjecanct_matrix_year(year)\n",
    "        G2 = nx.from_numpy_matrix(A_M, create_using=nx.MultiDiGraph)\n",
    "        pr = nx.pagerank_numpy(G2, alpha=0.9)\n",
    "        P_R[\"pr_\"+str(year)] = list(pr.values())\n",
    "\n",
    "    P_R2 = pd.DataFrame()\n",
    "    columns = list(P_R.columns)\n",
    "    for i in range(len(columns)-1):\n",
    "        P_R2[\"pr_\"+columns[i][3:]] = (P_R[columns[i+1]]-P_R[columns[i]])/P_R[columns[i]]\n",
    "\n",
    "    P_R3 = pd.DataFrame()\n",
    "    columns = list(P_R.columns)\n",
    "    for i in range(len(columns)-1):\n",
    "        P_R3[\"pr_\"+columns[i][3:]]= P_R[columns[i+1]]\n",
    "\n",
    "    P_R_combined = pd.DataFrame(P_R.stack())\n",
    "    P_R2_combined = pd.DataFrame(P_R2.stack())\n",
    "    P_R3_combined = pd.DataFrame(P_R3.stack())\n",
    "    df = pd.concat([P_R_combined,P_R2_combined,P_R3_combined], axis = 1)\n",
    "    symbols = ['Pagerank', 'velocity', 'predicted_PageRange']\n",
    "\n",
    "    df.columns = symbols\n",
    "    return(df)"
   ]
  },
  {
   "cell_type": "code",
   "execution_count": 294,
   "metadata": {},
   "outputs": [],
   "source": [
    "df = create_feature_df(1980)"
   ]
  },
  {
   "cell_type": "markdown",
   "metadata": {},
   "source": [
    "The create_feature_df function outputs a dataframe which has three columns: 1- The current PageRank score of a node, the gradient/velocity of PageRank for that node, and the PageRank of that node for the upcoming time point (meaning the next year):"
   ]
  },
  {
   "cell_type": "code",
   "execution_count": 295,
   "metadata": {},
   "outputs": [
    {
     "data": {
      "text/html": [
       "<div>\n",
       "<style scoped>\n",
       "    .dataframe tbody tr th:only-of-type {\n",
       "        vertical-align: middle;\n",
       "    }\n",
       "\n",
       "    .dataframe tbody tr th {\n",
       "        vertical-align: top;\n",
       "    }\n",
       "\n",
       "    .dataframe thead th {\n",
       "        text-align: right;\n",
       "    }\n",
       "</style>\n",
       "<table border=\"1\" class=\"dataframe\">\n",
       "  <thead>\n",
       "    <tr style=\"text-align: right;\">\n",
       "      <th></th>\n",
       "      <th></th>\n",
       "      <th>Pagerank</th>\n",
       "      <th>velocity</th>\n",
       "      <th>predicted_PageRange</th>\n",
       "    </tr>\n",
       "  </thead>\n",
       "  <tbody>\n",
       "    <tr>\n",
       "      <th rowspan=\"5\" valign=\"top\">0</th>\n",
       "      <th>pr_1980</th>\n",
       "      <td>0.003694</td>\n",
       "      <td>4.244051</td>\n",
       "      <td>0.019374</td>\n",
       "    </tr>\n",
       "    <tr>\n",
       "      <th>pr_1981</th>\n",
       "      <td>0.019374</td>\n",
       "      <td>0.703186</td>\n",
       "      <td>0.032997</td>\n",
       "    </tr>\n",
       "    <tr>\n",
       "      <th>pr_1982</th>\n",
       "      <td>0.032997</td>\n",
       "      <td>-0.728084</td>\n",
       "      <td>0.008973</td>\n",
       "    </tr>\n",
       "    <tr>\n",
       "      <th>pr_1983</th>\n",
       "      <td>0.008973</td>\n",
       "      <td>0.519185</td>\n",
       "      <td>0.013631</td>\n",
       "    </tr>\n",
       "    <tr>\n",
       "      <th>pr_1984</th>\n",
       "      <td>0.013631</td>\n",
       "      <td>1.778496</td>\n",
       "      <td>0.037874</td>\n",
       "    </tr>\n",
       "  </tbody>\n",
       "</table>\n",
       "</div>"
      ],
      "text/plain": [
       "           Pagerank  velocity  predicted_PageRange\n",
       "0 pr_1980  0.003694  4.244051             0.019374\n",
       "  pr_1981  0.019374  0.703186             0.032997\n",
       "  pr_1982  0.032997 -0.728084             0.008973\n",
       "  pr_1983  0.008973  0.519185             0.013631\n",
       "  pr_1984  0.013631  1.778496             0.037874"
      ]
     },
     "execution_count": 295,
     "metadata": {},
     "output_type": "execute_result"
    }
   ],
   "source": [
    "df.head()"
   ]
  },
  {
   "cell_type": "code",
   "execution_count": 277,
   "metadata": {},
   "outputs": [],
   "source": [
    "df = df.dropna()"
   ]
  },
  {
   "cell_type": "markdown",
   "metadata": {},
   "source": [
    "__4. Creating Regression Model for PageRank Prediction__\n",
    "---"
   ]
  },
  {
   "cell_type": "markdown",
   "metadata": {},
   "source": [
    "Now we are ready to do a regression model fitting to our data. First, I do a quick exploration to see model performance:"
   ]
  },
  {
   "cell_type": "code",
   "execution_count": null,
   "metadata": {},
   "outputs": [],
   "source": []
  },
  {
   "cell_type": "code",
   "execution_count": 279,
   "metadata": {},
   "outputs": [],
   "source": [
    "from sklearn import metrics\n",
    "from sklearn import linear_model\n",
    "from sklearn.pipeline import Pipeline\n",
    "from sklearn.preprocessing import PolynomialFeatures\n",
    "from sklearn.model_selection import GridSearchCV, train_test_split\n",
    "from sklearn.linear_model import LinearRegression, Lasso, Ridge\n"
   ]
  },
  {
   "cell_type": "code",
   "execution_count": 280,
   "metadata": {},
   "outputs": [],
   "source": [
    "# comparing 3 models\n",
    "models = {'OLS': LinearRegression(),\n",
    "         'Lasso': Lasso(),\n",
    "         'Ridge': Ridge(),}"
   ]
  },
  {
   "cell_type": "code",
   "execution_count": 281,
   "metadata": {},
   "outputs": [],
   "source": [
    "def test(models, data, iterations = 100):\n",
    "    results = {}\n",
    "    for i in models:\n",
    "        r2_train = []\n",
    "        r2_test = []\n",
    "        for j in range(iterations):\n",
    "            X_train, X_test, y_train, y_test = train_test_split(data[[\"Pagerank\",\"velocity\"]].values, \n",
    "                                                                df['predicted_PageRange'].values, \n",
    "                                                                test_size= 0.2)\n",
    "            r2_test.append(metrics.r2_score(y_test,\n",
    "                                            models[i].fit(X_train, \n",
    "                                                         y_train).predict(X_test)))\n",
    "            r2_train.append(metrics.r2_score(y_train, \n",
    "                                             models[i].fit(X_train, \n",
    "                                                          y_train).predict(X_train)))\n",
    "        results[i] = [np.mean(r2_train), np.mean(r2_test)]\n",
    "    return (pd.DataFrame(results))"
   ]
  },
  {
   "cell_type": "markdown",
   "metadata": {},
   "source": [
    "Testing these 3 models (LinearRegression, Lasso, and Ridge) shows that the performance of a simple linear regression is highest:"
   ]
  },
  {
   "cell_type": "code",
   "execution_count": 282,
   "metadata": {},
   "outputs": [
    {
     "data": {
      "text/html": [
       "<div>\n",
       "<style scoped>\n",
       "    .dataframe tbody tr th:only-of-type {\n",
       "        vertical-align: middle;\n",
       "    }\n",
       "\n",
       "    .dataframe tbody tr th {\n",
       "        vertical-align: top;\n",
       "    }\n",
       "\n",
       "    .dataframe thead th {\n",
       "        text-align: right;\n",
       "    }\n",
       "</style>\n",
       "<table border=\"1\" class=\"dataframe\">\n",
       "  <thead>\n",
       "    <tr style=\"text-align: right;\">\n",
       "      <th></th>\n",
       "      <th>OLS</th>\n",
       "      <th>Lasso</th>\n",
       "      <th>Ridge</th>\n",
       "    </tr>\n",
       "  </thead>\n",
       "  <tbody>\n",
       "    <tr>\n",
       "      <th>0</th>\n",
       "      <td>0.843541</td>\n",
       "      <td>0.000000</td>\n",
       "      <td>0.657484</td>\n",
       "    </tr>\n",
       "    <tr>\n",
       "      <th>1</th>\n",
       "      <td>0.834298</td>\n",
       "      <td>-0.003502</td>\n",
       "      <td>0.655757</td>\n",
       "    </tr>\n",
       "  </tbody>\n",
       "</table>\n",
       "</div>"
      ],
      "text/plain": [
       "        OLS     Lasso     Ridge\n",
       "0  0.843541  0.000000  0.657484\n",
       "1  0.834298 -0.003502  0.655757"
      ]
     },
     "execution_count": 282,
     "metadata": {},
     "output_type": "execute_result"
    }
   ],
   "source": [
    "test(models, df)"
   ]
  },
  {
   "cell_type": "markdown",
   "metadata": {},
   "source": [
    "__Now building the model with cross validation:__"
   ]
  },
  {
   "cell_type": "code",
   "execution_count": 283,
   "metadata": {},
   "outputs": [
    {
     "data": {
      "text/plain": [
       "0.8906065669898546"
      ]
     },
     "execution_count": 283,
     "metadata": {},
     "output_type": "execute_result"
    }
   ],
   "source": [
    "from sklearn.linear_model import LinearRegression\n",
    "from sklearn.model_selection import train_test_split\n",
    "from sklearn.pipeline import Pipeline\n",
    "from sklearn.model_selection import train_test_split\n",
    "from sklearn.preprocessing import StandardScaler\n",
    "\n",
    "pipe_all = Pipeline([\n",
    "                     ('standard', StandardScaler()),\n",
    "                     ('regressor', LinearRegression())])\n",
    "\n",
    "X=df[[\"Pagerank\",\"velocity\"]].values\n",
    "y=df['predicted_PageRange'].values\n",
    "\n",
    "X_train, X_test, y_train, y_test = train_test_split(X, y, test_size=0.2, random_state=42)\n",
    "\n",
    "pipe_all.fit(X_train,y_train)\n",
    "pipe_all.score(X_test, y_test)"
   ]
  },
  {
   "cell_type": "markdown",
   "metadata": {},
   "source": [
    "__5. And finally, predicting trends for year 2018__\n",
    "--"
   ]
  },
  {
   "cell_type": "markdown",
   "metadata": {},
   "source": [
    "Having model with R2 score = 0.9 we can now predict the PageRank scores for the upcoming year. (Note that I only had data till 2017, and prediction goes to 2018 where we still do not have data output)"
   ]
  },
  {
   "cell_type": "code",
   "execution_count": 305,
   "metadata": {},
   "outputs": [],
   "source": [
    "_,A_M = get_adjecanct_matrix_year(2017)\n",
    "G2 = nx.from_numpy_matrix(A_M, create_using=nx.MultiDiGraph)\n",
    "pr = nx.pagerank_numpy(G2, alpha=0.9)\n",
    "\n",
    "_,A_M = get_adjecanct_matrix_year(2016)\n",
    "G2 = nx.from_numpy_matrix(A_M, create_using=nx.MultiDiGraph)\n",
    "pr2 = nx.pagerank_numpy(G2, alpha=0.9)\n",
    "\n",
    "X = [[pr[i],pr2[i]] for i in range(len(pr))]"
   ]
  },
  {
   "cell_type": "code",
   "execution_count": 308,
   "metadata": {},
   "outputs": [],
   "source": [
    "pred = pipe_all.predict(X)"
   ]
  },
  {
   "cell_type": "code",
   "execution_count": null,
   "metadata": {},
   "outputs": [],
   "source": []
  },
  {
   "cell_type": "code",
   "execution_count": 328,
   "metadata": {},
   "outputs": [
    {
     "data": {
      "image/png": "[encoded data removed]",
      "text/plain": [
       "<Figure size 1200x600 with 1 Axes>"
      ]
     },
     "metadata": {},
     "output_type": "display_data"
    }
   ],
   "source": [
    "import matplotlib.pyplot as plt; plt.rcdefaults()\n",
    "import numpy as np\n",
    "import matplotlib.pyplot as plt\n",
    "from matplotlib.pyplot import figure\n",
    "figure(figsize=(12, 6))\n",
    "\n",
    "objects,_ =  get_adjacancy_matrix()\n",
    "y_pos = np.arange(len(objects))\n",
    "performance = pred\n",
    "\n",
    "plt.bar(y_pos, performance, align='center', alpha=0.7)\n",
    "plt.xticks(y_pos, objects, rotation='vertical')\n",
    "\n",
    "plt.xlabel('Patent Groups')\n",
    "plt.ylabel('Prediction of PageRank Score')\n",
    "plt.title('Technology Trend Prediction in 2018 for Group H')\n",
    "\n",
    "\n",
    "plt.show()"
   ]
  },
  {
   "cell_type": "markdown",
   "metadata": {},
   "source": [
    "__6. Final note on Prediction__\n",
    "---"
   ]
  },
  {
   "cell_type": "markdown",
   "metadata": {},
   "source": [
    "Top 3 groups:<br>\n",
    "    \n",
    "    H04L: TRANSMISSION OF DIGITAL INFORMATION\n",
    "    H01L: SEMICONDUCTOR DEVICES\n",
    "    H04W: WIRELESS COMMUNICATION NETWORKS<br>\n",
    "    \n",
    "My analysis shows that the top 3 groups mentioned above are going to have the highest PageRank value in the citation graph of section \"H\" for th eupcoming year. This plainly signals these three groups have higher importance in the graph and could be regarded as the trend drivers for the technology landscape in the next year."
   ]
  },
  {
   "cell_type": "code",
   "execution_count": null,
   "metadata": {},
   "outputs": [],
   "source": []
  }
 ],
 "metadata": {
  "kernelspec": {
   "display_name": "Python 3",
   "language": "python",
   "name": "python3"
  },
  "language_info": {
   "codemirror_mode": {
    "name": "ipython",
    "version": 3
   },
   "file_extension": ".py",
   "mimetype": "text/x-python",
   "name": "python",
   "nbconvert_exporter": "python",
   "pygments_lexer": "ipython3",
   "version": "3.6.8"
  }
 },
 "nbformat": 4,
 "nbformat_minor": 2
}
